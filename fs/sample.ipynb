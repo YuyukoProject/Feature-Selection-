{
 "cells": [
  {
   "cell_type": "code",
   "execution_count": 1,
   "metadata": {},
   "outputs": [],
   "source": [
    "import numpy as np,pandas as pd\n",
    "import Split\n",
    "import IV_Calculation\n",
    "import Importance_selection\n",
    "import data_clean\n",
    "import sklearn_fs\n",
    "import coherence_selection"
   ]
  },
  {
   "cell_type": "code",
   "execution_count": 5,
   "metadata": {},
   "outputs": [],
   "source": [
    "from sklearn import  datasets\n",
    "\n",
    "data= datasets.load_iris()\n",
    "\n",
    "x=data.data\n",
    "y=data.target\n",
    "\n",
    "y[y!=1]=0\n",
    "\n",
    "X=pd.DataFrame(x,columns=['a','b','c','d'])\n",
    "z=X.copy()\n",
    "X['lable']=y"
   ]
  },
  {
   "cell_type": "markdown",
   "metadata": {},
   "source": [
    "# 对数据进行最优分箱的操作\n"
   ]
  },
  {
   "cell_type": "code",
   "execution_count": 5,
   "metadata": {
    "collapsed": true
   },
   "outputs": [],
   "source": [
    "bins=Split.Split(min_sample = 4,max_node_number = 6) "
   ]
  },
  {
   "cell_type": "code",
   "execution_count": 6,
   "metadata": {
    "collapsed": true
   },
   "outputs": [
    {
     "data": {
      "text/plain": [
       "{'a': [5.450000047683716,\n",
       "  4.8500001430511475,\n",
       "  5.049999952316284,\n",
       "  6.25,\n",
       "  5.6499998569488525,\n",
       "  7.049999952316284],\n",
       " 'b': [2.950000047683716,\n",
       "  2.450000047683716,\n",
       "  2.25,\n",
       "  2.850000023841858,\n",
       "  3.350000023841858,\n",
       "  3.149999976158142],\n",
       " 'c': [2.449999988079071, 4.75, 4.450000047683716, 5.049999952316284],\n",
       " 'd': [0.800000011920929, 1.75, 1.3499999642372131, 1.8499999642372131]}"
      ]
     },
     "execution_count": 6,
     "metadata": {},
     "output_type": "execute_result"
    }
   ],
   "source": [
    "bins.fit(X,'lable')"
   ]
  },
  {
   "cell_type": "markdown",
   "metadata": {},
   "source": [
    "# 对数据进行IV值的计算"
   ]
  },
  {
   "cell_type": "code",
   "execution_count": 10,
   "metadata": {
    "collapsed": true
   },
   "outputs": [],
   "source": [
    "IV_cal=IV_Calculation.IV_Select(bins=5,woe_limit=5,min_sample = 1)"
   ]
  },
  {
   "cell_type": "code",
   "execution_count": 11,
   "metadata": {},
   "outputs": [
    {
     "data": {
      "text/plain": [
       "{'a': 1.6757972995650001,\n",
       " 'b': 1.6791825466095602,\n",
       " 'c': 7.56877581730461,\n",
       " 'd': 7.940873059465689}"
      ]
     },
     "execution_count": 11,
     "metadata": {},
     "output_type": "execute_result"
    }
   ],
   "source": [
    "IV_cal.fit(X,'lable')"
   ]
  },
  {
   "cell_type": "code",
   "execution_count": 12,
   "metadata": {
    "collapsed": true
   },
   "outputs": [
    {
     "data": {
      "text/plain": [
       "{'a': {Interval(-inf, 5.05, closed='right'): -1.575536360758419,\n",
       "  Interval(5.05, 5.45, closed='right'): -1.0414538748281612,\n",
       "  Interval(5.45, 5.65, closed='right'): 1.8971199848858813,\n",
       "  Interval(5.65, 6.25, closed='right'): 1.0498221244986776,\n",
       "  Interval(6.25, 7.05, closed='right'): 0.11332868530700327,\n",
       "  Interval(7.05, inf, closed='right'): -5},\n",
       " 'b': {Interval(-inf, 2.45, closed='right'): 2.1972245773362196,\n",
       "  Interval(2.45, 2.85, closed='right'): 0.6931471805599453,\n",
       "  Interval(2.85, 2.95, closed='right'): 1.540445040947149,\n",
       "  Interval(2.95, 3.15, closed='right'): -0.1670540846631662,\n",
       "  Interval(3.15, 3.35, closed='right'): -0.6286086594223742,\n",
       "  Interval(3.35, inf, closed='right'): -2.8903717578961645},\n",
       " 'c': {Interval(-inf, 2.45, closed='right'): -5,\n",
       "  Interval(2.45, 4.45, closed='right'): 5,\n",
       "  Interval(4.45, 4.75, closed='right'): 3.4011973816621555,\n",
       "  Interval(4.75, 5.05, closed='right'): 0.22314355131420976,\n",
       "  Interval(5.05, inf, closed='right'): -3.0204248861443626},\n",
       " 'd': {Interval(-inf, 0.8, closed='right'): -5,\n",
       "  Interval(0.8, 1.35, closed='right'): 5,\n",
       "  Interval(1.35, 1.75, closed='right'): 2.128231705849268,\n",
       "  Interval(1.75, 1.85, closed='right'): -1.7047480922384253,\n",
       "  Interval(1.85, inf, closed='right'): -5}}"
      ]
     },
     "execution_count": 12,
     "metadata": {},
     "output_type": "execute_result"
    }
   ],
   "source": [
    "IV_cal.woe_dict"
   ]
  },
  {
   "cell_type": "markdown",
   "metadata": {},
   "source": [
    "# 对数据进行重要性选择"
   ]
  },
  {
   "cell_type": "code",
   "execution_count": 3,
   "metadata": {
    "collapsed": true
   },
   "outputs": [],
   "source": [
    "imp=Importance_selection.Select(FeatureNum=0.5, task='classification')"
   ]
  },
  {
   "cell_type": "code",
   "execution_count": 4,
   "metadata": {},
   "outputs": [
    {
     "data": {
      "text/plain": [
       "['a', 'b']"
      ]
     },
     "execution_count": 4,
     "metadata": {},
     "output_type": "execute_result"
    }
   ],
   "source": [
    "imp.fit(X,'lable')"
   ]
  },
  {
   "cell_type": "markdown",
   "metadata": {},
   "source": [
    "# 对数据进行相关性选择"
   ]
  },
  {
   "cell_type": "code",
   "execution_count": 6,
   "metadata": {
    "collapsed": true
   },
   "outputs": [],
   "source": [
    "corr=coherence_selection.Corr_Select(method=1, CorrLimit=0.9, plot=1)"
   ]
  },
  {
   "cell_type": "code",
   "execution_count": 7,
   "metadata": {
    "collapsed": true
   },
   "outputs": [
    {
     "name": "stdout",
     "output_type": "stream",
     "text": [
      "Index(['a', 'b', 'c', 'd'], dtype='object')\n"
     ]
    },
    {
     "data": {
      "image/png": "[encoded data removed]",
      "text/plain": [
       "<Figure size 720x576 with 2 Axes>"
      ]
     },
     "metadata": {},
     "output_type": "display_data"
    },
    {
     "data": {
      "image/png": "[encoded data removed]",
      "text/plain": [
       "<Figure size 720x576 with 2 Axes>"
      ]
     },
     "metadata": {},
     "output_type": "display_data"
    },
    {
     "data": {
      "text/plain": [
       "['a', 'b', 'd']"
      ]
     },
     "execution_count": 7,
     "metadata": {},
     "output_type": "execute_result"
    }
   ],
   "source": [
    "corr.fit(z)"
   ]
  },
  {
   "cell_type": "code",
   "execution_count": 8,
   "metadata": {
    "collapsed": true
   },
   "outputs": [],
   "source": [
    "corr=coherence_selection.Corr_Select(iv=1,method=1, CorrLimit=0.7, plot=1)"
   ]
  },
  {
   "cell_type": "code",
   "execution_count": 9,
   "metadata": {
    "collapsed": true
   },
   "outputs": [
    {
     "name": "stdout",
     "output_type": "stream",
     "text": [
      "['a', 'b', 'c', 'd']\n"
     ]
    },
    {
     "data": {
      "image/png": "[encoded data removed]",
      "text/plain": [
       "<Figure size 720x576 with 2 Axes>"
      ]
     },
     "metadata": {},
     "output_type": "display_data"
    },
    {
     "data": {
      "image/png": "[encoded data removed]",
      "text/plain": [
       "<Figure size 720x576 with 2 Axes>"
      ]
     },
     "metadata": {},
     "output_type": "display_data"
    },
    {
     "data": {
      "text/plain": [
       "['a', 'b']"
      ]
     },
     "execution_count": 9,
     "metadata": {},
     "output_type": "execute_result"
    }
   ],
   "source": [
    "corr.fit(X,'lable')"
   ]
  },
  {
   "cell_type": "code",
   "execution_count": null,
   "metadata": {
    "collapsed": true
   },
   "outputs": [],
   "source": []
  },
  {
   "cell_type": "markdown",
   "metadata": {},
   "source": [
    "# 利用Sklearn 包内的方法进行"
   ]
  },
  {
   "cell_type": "code",
   "execution_count": 7,
   "metadata": {
    "collapsed": true
   },
   "outputs": [],
   "source": [
    "from sklearn.linear_model import LogisticRegression"
   ]
  },
  {
   "cell_type": "code",
   "execution_count": 8,
   "metadata": {
    "collapsed": true
   },
   "outputs": [],
   "source": [
    "estimator=LogisticRegression()"
   ]
  },
  {
   "cell_type": "code",
   "execution_count": 21,
   "metadata": {
    "collapsed": true
   },
   "outputs": [],
   "source": [
    "clf=sklearn_fs.RFE_Select(estimator, n_features_to_select=3, step=1, verbose=0)"
   ]
  },
  {
   "cell_type": "code",
   "execution_count": 22,
   "metadata": {},
   "outputs": [
    {
     "data": {
      "text/plain": [
       "RFE_Select(estimator=LogisticRegression(C=1.0, class_weight=None, dual=False, fit_intercept=True,\n",
       "          intercept_scaling=1, max_iter=100, multi_class='warn',\n",
       "          n_jobs=None, penalty='l2', random_state=None, solver='warn',\n",
       "          tol=0.0001, verbose=0, warm_start=False),\n",
       "      n_features_to_select=3, step=1, verbose=0)"
      ]
     },
     "execution_count": 22,
     "metadata": {},
     "output_type": "execute_result"
    }
   ],
   "source": [
    "clf.fit(x,y)"
   ]
  },
  {
   "cell_type": "code",
   "execution_count": 27,
   "metadata": {},
   "outputs": [
    {
     "data": {
      "text/plain": [
       "array([False,  True,  True,  True])"
      ]
     },
     "execution_count": 27,
     "metadata": {},
     "output_type": "execute_result"
    }
   ],
   "source": [
    "clf.support_"
   ]
  },
  {
   "cell_type": "code",
   "execution_count": 28,
   "metadata": {
    "collapsed": true
   },
   "outputs": [],
   "source": [
    "clf=sklearn_fs.F_class_Select(k=2)"
   ]
  },
  {
   "cell_type": "code",
   "execution_count": 31,
   "metadata": {},
   "outputs": [],
   "source": [
    "clf.fit(z,y)"
   ]
  },
  {
   "cell_type": "code",
   "execution_count": null,
   "metadata": {
    "collapsed": true
   },
   "outputs": [],
   "source": []
  }
 ],
 "metadata": {
  "kernelspec": {
   "display_name": "Python 3",
   "language": "python",
   "name": "python3"
  },
  "language_info": {
   "codemirror_mode": {
    "name": "ipython",
    "version": 3
   },
   "file_extension": ".py",
   "mimetype": "text/x-python",
   "name": "python",
   "nbconvert_exporter": "python",
   "pygments_lexer": "ipython3",
   "version": "3.6.3"
  }
 },
 "nbformat": 4,
 "nbformat_minor": 2
}
